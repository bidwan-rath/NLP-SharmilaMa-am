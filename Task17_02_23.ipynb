{
  "nbformat": 4,
  "nbformat_minor": 0,
  "metadata": {
    "colab": {
      "provenance": []
    },
    "kernelspec": {
      "name": "python3",
      "display_name": "Python 3"
    },
    "language_info": {
      "name": "python"
    }
  },
  "cells": [
    {
      "cell_type": "code",
      "execution_count": 16,
      "metadata": {
        "id": "h-zuCm1Df-R9"
      },
      "outputs": [],
      "source": [
        "from sklearn.feature_extraction.text import CountVectorizer\n",
        "vect =  CountVectorizer(binary=True)"
      ]
    },
    {
      "cell_type": "code",
      "source": [
        "corpus = [\"I have a German Shephard\",\"German Shepard is from Germany\",\"Germans love gossiping\"]"
      ],
      "metadata": {
        "id": "32P6W97Zjs6L"
      },
      "execution_count": 17,
      "outputs": []
    },
    {
      "cell_type": "code",
      "source": [
        "vect.fit(corpus)"
      ],
      "metadata": {
        "colab": {
          "base_uri": "https://localhost:8080/"
        },
        "id": "WkacH-Foka7d",
        "outputId": "9b028feb-4e7d-4305-a0c0-75749a968353"
      },
      "execution_count": 18,
      "outputs": [
        {
          "output_type": "execute_result",
          "data": {
            "text/plain": [
              "CountVectorizer(binary=True)"
            ]
          },
          "metadata": {},
          "execution_count": 18
        }
      ]
    },
    {
      "cell_type": "code",
      "source": [
        "vocab = vect.vocabulary_"
      ],
      "metadata": {
        "id": "nKPn8iPBkeaP"
      },
      "execution_count": 19,
      "outputs": []
    },
    {
      "cell_type": "code",
      "source": [
        "for key in vocab.keys():\n",
        "  print(\"{}:{}\".format(key,vocab[key]))"
      ],
      "metadata": {
        "colab": {
          "base_uri": "https://localhost:8080/"
        },
        "id": "ddhlVm_Lkm_-",
        "outputId": "468c800c-60a3-44a3-c9ba-428504f9d364"
      },
      "execution_count": 20,
      "outputs": [
        {
          "output_type": "stream",
          "name": "stdout",
          "text": [
            "have:5\n",
            "german:1\n",
            "shephard:9\n",
            "shepard:8\n",
            "is:6\n",
            "from:0\n",
            "germany:3\n",
            "germans:2\n",
            "love:7\n",
            "gossiping:4\n"
          ]
        }
      ]
    },
    {
      "cell_type": "code",
      "source": [
        "print(vect.transform([\"Germany has German Shephard\"]).toarray())  #transforming a sentence into a vector"
      ],
      "metadata": {
        "colab": {
          "base_uri": "https://localhost:8080/"
        },
        "id": "KreptEMXk4nn",
        "outputId": "cdecc4b3-8cc1-4729-be97-87b83989844a"
      },
      "execution_count": 21,
      "outputs": [
        {
          "output_type": "stream",
          "name": "stdout",
          "text": [
            "[[0 1 0 1 0 0 0 0 0 1]]\n"
          ]
        }
      ]
    },
    {
      "cell_type": "code",
      "source": [
        "print(vect.transform([\"Germany has German Shephard\"]).toarray())  #transforming a sentence into a vector"
      ],
      "metadata": {
        "colab": {
          "base_uri": "https://localhost:8080/"
        },
        "id": "Bk1uK11tlR6G",
        "outputId": "2883321b-0b6e-4715-d8d2-6649a05ea379"
      },
      "execution_count": 22,
      "outputs": [
        {
          "output_type": "stream",
          "name": "stdout",
          "text": [
            "[[0 1 0 1 0 0 0 0 0 1]]\n"
          ]
        }
      ]
    },
    {
      "cell_type": "code",
      "source": [
        "#cosine - cosine of the angle between the two input vectors or documents\n",
        "from sklearn.metrics .pairwise import cosine_similarity \n",
        "similarity = cosine_similarity(vect.transform([\"Germany has German Shephard\"]).toarray(),vect.transform([\"Germany has Berlin as its capital\"]).toarray()) "
      ],
      "metadata": {
        "id": "7E7gVYr0lcOP"
      },
      "execution_count": 23,
      "outputs": []
    },
    {
      "cell_type": "code",
      "source": [
        "print(similarity)"
      ],
      "metadata": {
        "colab": {
          "base_uri": "https://localhost:8080/"
        },
        "id": "HGIhv1FBmfi1",
        "outputId": "37f4cc57-f2cb-49f1-8236-a96e32391df2"
      },
      "execution_count": 24,
      "outputs": [
        {
          "output_type": "stream",
          "name": "stdout",
          "text": [
            "[[0.57735027]]\n"
          ]
        }
      ]
    },
    {
      "cell_type": "code",
      "source": [
        "#problem -  make a corpus of 3 or 4 articles of any writer,vectorize it\n",
        "#find the similarity between last and second last article\n",
        "#if similarity is less than 50% then the articles are different and he is still a creative writer\n",
        "#[Monday mornning 6 am deadline ,send ss and github link on teams]"
      ],
      "metadata": {
        "id": "VbjFyJqSmijn"
      },
      "execution_count": 26,
      "outputs": []
    },
    {
      "cell_type": "code",
      "source": [
        "article_corpus = [\"This blog provides general Common Code Remediation while migrating from XS Classic(XSC) to XS Advanced(XSA) environment using the XSA tool. The same are also applicable as concepts for manually migrating from an on-premise database to the  SAP HANA cloud. You have already started the various available paths for migrating the objects and you have enough reason and know the process step by step to do the migration manually using different methods.\", \"Direct flights from Pune to SingaporeTravellers can now fly directly between Pune and Singapore starting December 2, courtesy Vistara which will kick off three to four flights every week. International connections from Pune are rare (right now, Dubai is the sole one); visitors normally rely on Mumbai airport for the same.\", \"September inauguration for Goa’s next airportTravel to Goa could witness a cascading effect after September 2022 when Mopa international airport, the state’s second such airport after the one in Dabolim, finally opens to tourists.\", \"Schengen visa process to go digitalIn a bid to ease paperwork for millions of tourists, the EU has proposed to make the Schengen visa process an online application system in the next few years. The Schengen visa allows travellers to visit and travel across 26 EU member nations for up to 90 days.\", \"Suba aluth auwrudh dhak vewa. Puthandu vazhthukal. These are the Sinhalese and Tamil New Year greetings. ‘Aluth Avurudda’ is a festive day in Sri Lanka and I am wondering how I can recreate some elements of it being under the lockdown this year. The new year marks a new phase in the zodiac calendar with the sun moving from Meena (Pisces) to Mesha (Aries) in April.\"]"
      ],
      "metadata": {
        "id": "CW7Q9ToRqBX4"
      },
      "execution_count": 27,
      "outputs": []
    },
    {
      "cell_type": "code",
      "source": [
        "vect.fit(article_corpus)"
      ],
      "metadata": {
        "colab": {
          "base_uri": "https://localhost:8080/"
        },
        "id": "QOLcwcbTq8hc",
        "outputId": "5d4fcd86-26d7-4ea8-a5ce-8fb497779a5b"
      },
      "execution_count": 28,
      "outputs": [
        {
          "output_type": "execute_result",
          "data": {
            "text/plain": [
              "CountVectorizer(binary=True)"
            ]
          },
          "metadata": {},
          "execution_count": 28
        }
      ]
    },
    {
      "cell_type": "code",
      "source": [
        "vocab = vect.vocabulary_\n",
        "for key in vocab.keys():\n",
        "    print(\"{} : {}\".format(key, vocab[key]))"
      ],
      "metadata": {
        "colab": {
          "base_uri": "https://localhost:8080/"
        },
        "id": "Cu2rhq9JrC9c",
        "outputId": "f976faca-547a-49ee-f22a-ac495bca57cf"
      },
      "execution_count": 29,
      "outputs": [
        {
          "output_type": "stream",
          "name": "stdout",
          "text": [
            "this : 147\n",
            "blog : 27\n",
            "provides : 116\n",
            "general : 67\n",
            "common : 35\n",
            "code : 34\n",
            "remediation : 123\n",
            "while : 167\n",
            "migrating : 91\n",
            "from : 66\n",
            "xs : 172\n",
            "classic : 32\n",
            "xsc : 174\n",
            "to : 149\n",
            "advanced : 4\n",
            "xsa : 173\n",
            "environment : 56\n",
            "using : 156\n",
            "the : 145\n",
            "tool : 150\n",
            "same : 125\n",
            "are : 18\n",
            "also : 10\n",
            "applicable : 15\n",
            "as : 20\n",
            "concepts : 36\n",
            "for : 64\n",
            "manually : 85\n",
            "an : 13\n",
            "on : 105\n",
            "premise : 113\n",
            "database : 41\n",
            "sap : 126\n",
            "hana : 71\n",
            "cloud : 33\n",
            "you : 177\n",
            "have : 73\n",
            "already : 9\n",
            "started : 136\n",
            "various : 157\n",
            "available : 22\n",
            "paths : 110\n",
            "objects : 102\n",
            "and : 14\n",
            "enough : 55\n",
            "reason : 120\n",
            "know : 81\n",
            "process : 114\n",
            "step : 139\n",
            "by : 28\n",
            "do : 50\n",
            "migration : 92\n",
            "different : 46\n",
            "methods : 90\n",
            "direct : 48\n",
            "flights : 62\n",
            "pune : 117\n",
            "singaporetravellers : 131\n",
            "can : 30\n",
            "now : 101\n",
            "fly : 63\n",
            "directly : 49\n",
            "between : 25\n",
            "singapore : 130\n",
            "starting : 137\n",
            "december : 44\n",
            "courtesy : 39\n",
            "vistara : 163\n",
            "which : 166\n",
            "will : 168\n",
            "kick : 80\n",
            "off : 104\n",
            "three : 148\n",
            "four : 65\n",
            "every : 58\n",
            "week : 164\n",
            "international : 77\n",
            "connections : 37\n",
            "rare : 119\n",
            "right : 124\n",
            "dubai : 51\n",
            "is : 78\n",
            "sole : 133\n",
            "one : 106\n",
            "visitors : 162\n",
            "normally : 100\n",
            "rely : 122\n",
            "mumbai : 96\n",
            "airport : 6\n",
            "september : 129\n",
            "inauguration : 76\n",
            "goa : 69\n",
            "next : 99\n",
            "airporttravel : 7\n",
            "could : 38\n",
            "witness : 170\n",
            "cascading : 31\n",
            "effect : 53\n",
            "after : 5\n",
            "2022 : 0\n",
            "when : 165\n",
            "mopa : 94\n",
            "state : 138\n",
            "second : 128\n",
            "such : 141\n",
            "in : 75\n",
            "dabolim : 40\n",
            "finally : 61\n",
            "opens : 108\n",
            "tourists : 151\n",
            "schengen : 127\n",
            "visa : 160\n",
            "go : 68\n",
            "digitalin : 47\n",
            "bid : 26\n",
            "ease : 52\n",
            "paperwork : 109\n",
            "millions : 93\n",
            "of : 103\n",
            "eu : 57\n",
            "has : 72\n",
            "proposed : 115\n",
            "make : 84\n",
            "online : 107\n",
            "application : 16\n",
            "system : 143\n",
            "few : 60\n",
            "years : 176\n",
            "allows : 8\n",
            "travellers : 153\n",
            "visit : 161\n",
            "travel : 152\n",
            "across : 3\n",
            "26 : 1\n",
            "member : 88\n",
            "nations : 97\n",
            "up : 155\n",
            "90 : 2\n",
            "days : 43\n",
            "suba : 140\n",
            "aluth : 11\n",
            "auwrudh : 21\n",
            "dhak : 45\n",
            "vewa : 159\n",
            "puthandu : 118\n",
            "vazhthukal : 158\n",
            "these : 146\n",
            "sinhalese : 132\n",
            "tamil : 144\n",
            "new : 98\n",
            "year : 175\n",
            "greetings : 70\n",
            "avurudda : 23\n",
            "festive : 59\n",
            "day : 42\n",
            "sri : 135\n",
            "lanka : 82\n",
            "am : 12\n",
            "wondering : 171\n",
            "how : 74\n",
            "recreate : 121\n",
            "some : 134\n",
            "elements : 54\n",
            "it : 79\n",
            "being : 24\n",
            "under : 154\n",
            "lockdown : 83\n",
            "marks : 86\n",
            "phase : 111\n",
            "zodiac : 178\n",
            "calendar : 29\n",
            "with : 169\n",
            "sun : 142\n",
            "moving : 95\n",
            "meena : 87\n",
            "pisces : 112\n",
            "mesha : 89\n",
            "aries : 19\n",
            "april : 17\n"
          ]
        }
      ]
    },
    {
      "cell_type": "code",
      "source": [
        "from sklearn.metrics.pairwise import cosine_similarity\n",
        "similarity = cosine_similarity(vect.transform([\"Schengen visa process to go digitalIn a bid to ease paperwork for millions of tourists, the EU has proposed to make the Schengen visa process an online application system in the next few years. The Schengen visa allows travellers to visit and travel across 26 EU member nations for up to 90 days.\"]).toarray(), vect.transform([\"Suba aluth auwrudh dhak vewa. Puthandu vazhthukal. These are the Sinhalese and Tamil New Year greetings. ‘Aluth Avurudda’ is a festive day in Sri Lanka and I am wondering how I can recreate some elements of it being under the lockdown this year. The new year marks a new phase in the zodiac calendar with the sun moving from Meena (Pisces) to Mesha (Aries) in April.\"]).toarray())"
      ],
      "metadata": {
        "id": "f-ZkJRbKrHMV"
      },
      "execution_count": 30,
      "outputs": []
    },
    {
      "cell_type": "code",
      "source": [
        "print(similarity)"
      ],
      "metadata": {
        "colab": {
          "base_uri": "https://localhost:8080/"
        },
        "id": "PAjfoRairN0g",
        "outputId": "ad758e91-8fe7-4567-d010-ac33fef4d063"
      },
      "execution_count": 31,
      "outputs": [
        {
          "output_type": "stream",
          "name": "stdout",
          "text": [
            "[[0.11470787]]\n"
          ]
        }
      ]
    },
    {
      "cell_type": "code",
      "source": [],
      "metadata": {
        "id": "vjSzQXcHrR1x"
      },
      "execution_count": null,
      "outputs": []
    }
  ]
}