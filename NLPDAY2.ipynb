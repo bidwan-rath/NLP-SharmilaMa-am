{
  "nbformat": 4,
  "nbformat_minor": 0,
  "metadata": {
    "colab": {
      "provenance": []
    },
    "kernelspec": {
      "name": "python3",
      "display_name": "Python 3"
    },
    "language_info": {
      "name": "python"
    }
  },
  "cells": [
    {
      "cell_type": "code",
      "execution_count": 2,
      "metadata": {
        "id": "_RD8EBtO8qy6"
      },
      "outputs": [],
      "source": [
        "# TASK - 1 Topic: Simple Text Classification and Task-Tweet Tokenizer"
      ]
    },
    {
      "cell_type": "code",
      "source": [
        "def gender_features(word):\n",
        "    return {'last_letter': word}"
      ],
      "metadata": {
        "id": "qXekNvVG9K5z"
      },
      "execution_count": 3,
      "outputs": []
    },
    {
      "cell_type": "code",
      "source": [
        "gender_features('Bidwan')"
      ],
      "metadata": {
        "colab": {
          "base_uri": "https://localhost:8080/"
        },
        "id": "Ct42aju09PaQ",
        "outputId": "f40e5a52-7ec9-49ce-d047-ffbfe556a72d"
      },
      "execution_count": 4,
      "outputs": [
        {
          "output_type": "execute_result",
          "data": {
            "text/plain": [
              "{'last_letter': 'Bidwan'}"
            ]
          },
          "metadata": {},
          "execution_count": 4
        }
      ]
    },
    {
      "cell_type": "code",
      "source": [
        "from nltk.corpus import names"
      ],
      "metadata": {
        "id": "EjtvQf189U01"
      },
      "execution_count": 5,
      "outputs": []
    },
    {
      "cell_type": "code",
      "source": [
        "import nltk"
      ],
      "metadata": {
        "id": "fKa97WNg9Zto"
      },
      "execution_count": 6,
      "outputs": []
    },
    {
      "cell_type": "code",
      "source": [
        "nltk.download('names')"
      ],
      "metadata": {
        "colab": {
          "base_uri": "https://localhost:8080/"
        },
        "id": "8xfKftQL9dvR",
        "outputId": "dbeb5674-afe2-4726-d731-414b18c79137"
      },
      "execution_count": 7,
      "outputs": [
        {
          "output_type": "stream",
          "name": "stderr",
          "text": [
            "[nltk_data] Downloading package names to /root/nltk_data...\n",
            "[nltk_data]   Unzipping corpora/names.zip.\n"
          ]
        },
        {
          "output_type": "execute_result",
          "data": {
            "text/plain": [
              "True"
            ]
          },
          "metadata": {},
          "execution_count": 7
        }
      ]
    },
    {
      "cell_type": "code",
      "source": [
        "labeled_names = ([(name, 'male') for name in names.words('male.txt')] + [(name, 'female') for name in names.words('female.txt')])"
      ],
      "metadata": {
        "id": "lG-QevLV9i_B"
      },
      "execution_count": 8,
      "outputs": []
    },
    {
      "cell_type": "code",
      "source": [
        "import random\n",
        "random.shuffle(labeled_names)"
      ],
      "metadata": {
        "id": "K3Y6JY_l9nto"
      },
      "execution_count": 9,
      "outputs": []
    },
    {
      "cell_type": "code",
      "source": [
        "featuresets = [(gender_features(n),gender) for (n, gender) in labeled_names]"
      ],
      "metadata": {
        "id": "32llVhkv9rFg"
      },
      "execution_count": 10,
      "outputs": []
    },
    {
      "cell_type": "code",
      "source": [
        "train_set, test_set = featuresets[500:], featuresets[:500]"
      ],
      "metadata": {
        "id": "NJTMHr-q9uaj"
      },
      "execution_count": 11,
      "outputs": []
    },
    {
      "cell_type": "code",
      "source": [
        "classifier = nltk.NaiveBayesClassifier.train(train_set)"
      ],
      "metadata": {
        "id": "vqCsv6p89xV8"
      },
      "execution_count": 12,
      "outputs": []
    },
    {
      "cell_type": "code",
      "source": [
        "classifier.classify(gender_features('David'))"
      ],
      "metadata": {
        "colab": {
          "base_uri": "https://localhost:8080/",
          "height": 36
        },
        "id": "1cNAQoEC90hw",
        "outputId": "f92e8c2a-00ae-4086-e99d-1b3e0eb4fb11"
      },
      "execution_count": 13,
      "outputs": [
        {
          "output_type": "execute_result",
          "data": {
            "text/plain": [
              "'male'"
            ],
            "application/vnd.google.colaboratory.intrinsic+json": {
              "type": "string"
            }
          },
          "metadata": {},
          "execution_count": 13
        }
      ]
    },
    {
      "cell_type": "code",
      "source": [
        "classifier.classify(gender_features('Bidwan'))"
      ],
      "metadata": {
        "colab": {
          "base_uri": "https://localhost:8080/",
          "height": 36
        },
        "id": "2dbhTPXt97uU",
        "outputId": "0032e50a-1af9-4a61-b9c4-73727c639fa1"
      },
      "execution_count": 14,
      "outputs": [
        {
          "output_type": "execute_result",
          "data": {
            "text/plain": [
              "'female'"
            ],
            "application/vnd.google.colaboratory.intrinsic+json": {
              "type": "string"
            }
          },
          "metadata": {},
          "execution_count": 14
        }
      ]
    },
    {
      "cell_type": "code",
      "source": [
        "classifier.classify(gender_features('Kiran'))"
      ],
      "metadata": {
        "colab": {
          "base_uri": "https://localhost:8080/",
          "height": 36
        },
        "id": "3IdgVYrZ-A0w",
        "outputId": "c449e3ce-9e4d-4b98-9264-da3c1790d9d1"
      },
      "execution_count": 15,
      "outputs": [
        {
          "output_type": "execute_result",
          "data": {
            "text/plain": [
              "'female'"
            ],
            "application/vnd.google.colaboratory.intrinsic+json": {
              "type": "string"
            }
          },
          "metadata": {},
          "execution_count": 15
        }
      ]
    },
    {
      "cell_type": "code",
      "source": [
        "print(nltk.classify.accuracy(classifier,test_set))"
      ],
      "metadata": {
        "colab": {
          "base_uri": "https://localhost:8080/"
        },
        "id": "59PFNpmD-F0T",
        "outputId": "90eac69f-c3ea-4606-9375-e34fa64d89ae"
      },
      "execution_count": 18,
      "outputs": [
        {
          "output_type": "stream",
          "name": "stdout",
          "text": [
            "0.606\n"
          ]
        }
      ]
    },
    {
      "cell_type": "code",
      "source": [
        "#TASK - 2"
      ],
      "metadata": {
        "id": "TTMBqLAY-Tij"
      },
      "execution_count": null,
      "outputs": []
    },
    {
      "cell_type": "code",
      "source": [
        "from nltk.tokenize import TweetTokenizer\n",
        "text = 'The Party was soooo fun 😀 #superfun'\n",
        "twtkn = TweetTokenizer()\n",
        "twtkn.tokenize(text)"
      ],
      "metadata": {
        "colab": {
          "base_uri": "https://localhost:8080/"
        },
        "id": "8vSCOFpD-KZE",
        "outputId": "971737f6-bafd-48a7-c80c-d1c170489c00"
      },
      "execution_count": 17,
      "outputs": [
        {
          "output_type": "execute_result",
          "data": {
            "text/plain": [
              "['The', 'Party', 'was', 'soooo', 'fun', '😀', '#superfun']"
            ]
          },
          "metadata": {},
          "execution_count": 17
        }
      ]
    },
    {
      "cell_type": "code",
      "source": [
        "from nltk.tokenize import TweetTokenizer\n",
        "text = 'Heyy 😄 I 🥳 am 🥰 Yashi 🥵'\n",
        "twtkn = TweetTokenizer()\n",
        "twtkn.tokenize(text)"
      ],
      "metadata": {
        "colab": {
          "base_uri": "https://localhost:8080/"
        },
        "id": "laOIRwJQ-OHw",
        "outputId": "e639ee31-d40b-40fd-964d-250892be8aa3"
      },
      "execution_count": 19,
      "outputs": [
        {
          "output_type": "execute_result",
          "data": {
            "text/plain": [
              "['Heyy', '😄', 'I', '🥳', 'am', '🥰', 'Yashi', '🥵']"
            ]
          },
          "metadata": {},
          "execution_count": 19
        }
      ]
    },
    {
      "cell_type": "code",
      "source": [],
      "metadata": {
        "id": "IkTLDypy-ajX"
      },
      "execution_count": 20,
      "outputs": []
    },
    {
      "cell_type": "code",
      "source": [],
      "metadata": {
        "id": "SnzSygrz-jDc"
      },
      "execution_count": null,
      "outputs": []
    }
  ]
}